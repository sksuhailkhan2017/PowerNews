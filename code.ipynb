{
 "cells": [
  {
   "cell_type": "code",
   "execution_count": 1,
   "metadata": {},
   "outputs": [],
   "source": [
    "from dotenv import dotenv_values\n",
    "configs = dotenv_values(\".config\")"
   ]
  },
  {
   "cell_type": "code",
   "execution_count": null,
   "metadata": {},
   "outputs": [],
   "source": [
    "rss_urls = {\n",
    "    # India\n",
    "    \"The Hindu\": \"https://www.thehindu.com/feeder/default.rss\",\n",
    "    \"NDTV\": \"https://feeds.feedburner.com/ndtvnews-top-stories\",\n",
    "    \"Times of India\": \"https://timesofindia.indiatimes.com/rssfeedstopstories.cms\",\n",
    "    \"Hindustan Times\": \"https://www.hindustantimes.com/feeds/rss/web-stories/trending/rssfeed.xml\",\n",
    "    \"The Economic Times\": \"https://economictimes.indiatimes.com/rssfeedstopstories.cms\",\n",
    "    \"Business Standard\": \"https://www.business-standard.com/rss/\",\n",
    "    \"Mint\": \"https://www.livemint.com/rss/AI\",\n",
    "    \"MediaNama\": \"https://medianama.com/feed/\",\n",
    "    \"Inc42\": \"https://inc42.com/feed/\",\n",
    "    \"ESPN Cricinfo (Cricket)\": \"https://www.espncricinfo.com/rss/feeds/home.xml\",\n",
    "    \"The Indian Express (Sports)\": \"https://indianexpress.com/section/sports/rss/\",\n",
    "    # International\n",
    "    \"The Guardian\": \"https://www.theguardian.com/rss\",\n",
    "    \"The Wall Street Journal\": \"https://www.wsj.com/xml/rss/article/WSJnews-world.xml\",\n",
    "    \"Bloomberg\": \"https://www.bloomberg.com/feeds/news\",\n",
    "    \"Financial Times\": \"https://www.ft.com/rss/world-news\",\n",
    "    \"The Verge\": \"https://www.theverge.com/rss\",\n",
    "    \"Engadget\": \"https://www.engadget.com/rss.xml\",\n",
    "    \"Science Magazine\": \"https://www.sciencemag.org/rss\",\n",
    "    \"National Geographic\": \"https://www.nationalgeographic.com/news/rss\",\n",
    "    \"Scientific American\": \"https://www.scientificamerican.com/rss/feed\",\n",
    "    'BBC': 'http://feeds.bbci.co.uk/news/rss.xml',\n",
    "    'CNN': 'http://rss.cnn.com/rss/cnn_topstories.rss',\n",
    "    'Al Jazeera': 'https://www.aljazeera.com/xml/rss/all.xml',\n",
    "    \"BBC News\": \"https://feeds.bbci.co.uk/news/rss.xml\",\n",
    "    \"CNN Top Stories\": \"http://rss.cnn.com/rss/cnn_topstories.rss\",\n",
    "    \"Reuters World News\": \"http://feeds.reuters.com/reuters/worldNews\",\n",
    "    \"NY Times World News\": \"https://rss.nytimes.com/services/xml/rss/nyt/World.xml\",\n",
    "    \"TechCrunch\": \"http://feeds.feedburner.com/TechCrunch/\",\n",
    "    \"Google News (Technology)\": \"https://news.google.com/rss/search?q=technology&hl=en-US&gl=US&ceid=US:en\"\n",
    "}\n",
    "\n"
   ]
  }
 ],
 "metadata": {
  "kernelspec": {
   "display_name": "Python 3",
   "language": "python",
   "name": "python3"
  },
  "language_info": {
   "codemirror_mode": {
    "name": "ipython",
    "version": 3
   },
   "file_extension": ".py",
   "mimetype": "text/x-python",
   "name": "python",
   "nbconvert_exporter": "python",
   "pygments_lexer": "ipython3",
   "version": "3.12.3"
  }
 },
 "nbformat": 4,
 "nbformat_minor": 2
}
